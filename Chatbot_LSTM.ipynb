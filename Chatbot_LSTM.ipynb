{
  "nbformat": 4,
  "nbformat_minor": 0,
  "metadata": {
    "colab": {
      "name": "Chatbot_LSTM.ipynb",
      "version": "0.3.2",
      "provenance": []
    },
    "kernelspec": {
      "name": "python3",
      "display_name": "Python 3"
    },
    "accelerator": "GPU"
  },
  "cells": [
    {
      "metadata": {
        "id": "bCzkweSy0mMJ",
        "colab_type": "code",
        "colab": {
          "base_uri": "https://localhost:8080/",
          "height": 204
        },
        "outputId": "0de47bdd-9ef8-431b-8812-0d596c62215d"
      },
      "cell_type": "code",
      "source": [
        "!git clone https://github.com/ketul93/lstm-sentence-generator.git ; rm -rf weights/ ;mkdir weights ;cd lstm-sentence-generator/ ; git pull origin"
      ],
      "execution_count": 1,
      "outputs": [
        {
          "output_type": "stream",
          "text": [
            "fatal: destination path 'lstm-sentence-generator' already exists and is not an empty directory.\n",
            "remote: Counting objects: 5, done.\u001b[K\n",
            "remote: Compressing objects: 100% (2/2), done.\u001b[K\n",
            "remote: Total 5 (delta 3), reused 5 (delta 3), pack-reused 0\u001b[K\n",
            "Unpacking objects: 100% (5/5), done.\n",
            "From https://github.com/ketul93/lstm-sentence-generator\n",
            "   bf9e63f..4ade432  master     -> origin/master\n",
            "Updating bf9e63f..4ade432\n",
            "Fast-forward\n",
            " src/scripts/sample_data_ubuntu.txt | 1025 \u001b[32m+++++++++++++++++++++++++++++++++++\u001b[m\u001b[31m-\u001b[m\n",
            " 1 file changed, 1024 insertions(+), 1 deletion(-)\n"
          ],
          "name": "stdout"
        }
      ]
    },
    {
      "metadata": {
        "id": "E9sXpH42R1yY",
        "colab_type": "code",
        "colab": {
          "base_uri": "https://localhost:8080/",
          "height": 34
        },
        "outputId": "773a90b4-7152-4f13-c258-316d81e68409"
      },
      "cell_type": "code",
      "source": [
        "import re\n",
        "import numpy as np\n",
        "from keras.utils import np_utils\n",
        "from keras.models import Sequential\n",
        "from keras.layers import Dense, Activation\n",
        "from keras.layers import Dropout\n",
        "from keras.layers import LSTM\n",
        "from keras.optimizers import RMSprop\n",
        "import math\n",
        "import random\n",
        "import sys\n",
        "import os\n",
        "import matplotlib.pyplot as plt\n",
        "from keras.utils import plot_model"
      ],
      "execution_count": 2,
      "outputs": [
        {
          "output_type": "stream",
          "text": [
            "Using TensorFlow backend.\n"
          ],
          "name": "stderr"
        }
      ]
    },
    {
      "metadata": {
        "id": "xCPU_QOrVPim",
        "colab_type": "text"
      },
      "cell_type": "markdown",
      "source": [
        "**Load File and Build Vocabulary**"
      ]
    },
    {
      "metadata": {
        "id": "E474V9bYU0Mt",
        "colab_type": "code",
        "colab": {
          "base_uri": "https://localhost:8080/",
          "height": 51
        },
        "outputId": "75b0f82b-34af-46f0-db9d-5a8bed05c4b3"
      },
      "cell_type": "code",
      "source": [
        "data_path = \"lstm-sentence-generator/src/scripts/sample_data_ubuntu.txt\"\n",
        "raw_text = open(data_path).read().lower()\n",
        "\n",
        "# generate list of unique characters, but only include words and some punctuation marks\n",
        "pattern = re.compile('[a-z]+|\\!|\\n|\\.|,|;')\n",
        "all_words = re.findall(pattern, raw_text)\n",
        "\n",
        "unique_words = sorted(set(all_words))\n",
        "\n",
        "word_to_int = dict((c, i) for i, c in enumerate(unique_words))\n",
        "\n",
        "# print(unique_words)\n",
        "# print(word_to_int)\n",
        "\n",
        "# Generating vocabulary\n",
        "# later used to make outputs more readable by converting ints back to characters\n",
        "int_to_word = dict((i, c) for i, c in enumerate(unique_words))\n",
        "\n",
        "total_num_words = len(all_words)\n",
        "len_vocab = len(unique_words)\n",
        "\n",
        "print(\"Total number of words:\\t\" + str(total_num_words))\n",
        "print(\"Length of vocabulary:\\t\" + str(len_vocab))"
      ],
      "execution_count": 3,
      "outputs": [
        {
          "output_type": "stream",
          "text": [
            "Total number of words:\t37773\n",
            "Length of vocabulary:\t3544\n"
          ],
          "name": "stdout"
        }
      ]
    },
    {
      "metadata": {
        "id": "Ue6EXaoXVhiF",
        "colab_type": "text"
      },
      "cell_type": "markdown",
      "source": [
        "**Create Training Data from Text File**"
      ]
    },
    {
      "metadata": {
        "id": "FYXP9JasVFYT",
        "colab_type": "code",
        "colab": {
          "base_uri": "https://localhost:8080/",
          "height": 34
        },
        "outputId": "44cf1083-b032-496c-c0d3-fdc8d43f419e"
      },
      "cell_type": "code",
      "source": [
        "sequence_length = 15 # max number of words to consider at a time.\n",
        "# this means that each trainig set (training pattern) will be comprised of 20 time steps\n",
        "step_window = 3\n",
        "\n",
        "# set up x and y\n",
        "# convert the words into integers\n",
        "x_data = [] # list of lists\n",
        "y_data = []\n",
        "\n",
        "for i in range(0, total_num_words - sequence_length, step_window):\n",
        "    \n",
        "    # extract the first n words (length sequence_length): our \"x\"\n",
        "    sequence_in = all_words[i : i+sequence_length]\n",
        "    \n",
        "    # extract last word for this window: our \"y\" (target)\n",
        "    word_out = all_words[i+sequence_length]\n",
        "    \n",
        "    # print('\\nx: ' + str(sequence_in) + '\\n' + 'y: ' + word_out)\n",
        "    # print()\n",
        "        \n",
        "    # store corresponding integer for each character in the input sequence\n",
        "    x_data.append(sequence_in)\n",
        "    y_data.append(word_out)\n",
        "\n",
        "num_train_patters = len(x_data)\n",
        "print('Total patterns:\\t' + str(num_train_patters))"
      ],
      "execution_count": 4,
      "outputs": [
        {
          "output_type": "stream",
          "text": [
            "Total patterns:\t12586\n"
          ],
          "name": "stdout"
        }
      ]
    },
    {
      "metadata": {
        "id": "qpiW3iHKWXsR",
        "colab_type": "text"
      },
      "cell_type": "markdown",
      "source": [
        "**Preparing Training and Testing Data**"
      ]
    },
    {
      "metadata": {
        "id": "I8T-aCyqVrxQ",
        "colab_type": "code",
        "colab": {}
      },
      "cell_type": "code",
      "source": [
        "x = np.zeros((num_train_patters, sequence_length, len_vocab))\n",
        "y = np.zeros((num_train_patters, len_vocab))\n",
        "\n",
        "# Generating one-hot vectors\n",
        "for i, sentence in enumerate(x_data):\n",
        "    for t, word in enumerate(sentence):\n",
        "        x[i, t, word_to_int[word]] = 1\n",
        "    y[i, word_to_int[y_data[i]]] = 1"
      ],
      "execution_count": 0,
      "outputs": []
    },
    {
      "metadata": {
        "id": "ksII9X69WoCg",
        "colab_type": "text"
      },
      "cell_type": "markdown",
      "source": [
        "**Defining Model**"
      ]
    },
    {
      "metadata": {
        "id": "EDQDP2SdWgiE",
        "colab_type": "code",
        "colab": {
          "base_uri": "https://localhost:8080/",
          "height": 34
        },
        "outputId": "383cb3f8-e22b-41f2-863f-c9c9370c8af2"
      },
      "cell_type": "code",
      "source": [
        "learning_rate = 0.01\n",
        "optimizer = RMSprop(lr=learning_rate)\n",
        "num_memory_units = 256\n",
        "_dropout = 0.2\n",
        "model = Sequential()\n",
        "\n",
        "# model.add(LSTM(num_memory_units, return_sequences=True, input_shape=(sequence_length, len_vocab)))\n",
        "model.add(LSTM(num_memory_units, input_shape=(sequence_length, len_vocab)))\n",
        "model.add(Dropout(_dropout))\n",
        "# model.add(LSTM(num_memory_units))\n",
        "# model.add(Dropout(0.2))\n",
        "model.add(Dense(len_vocab))\n",
        "model.add(Activation('softmax'))\n",
        "\n",
        "model.compile(loss='categorical_crossentropy', optimizer=optimizer)\n",
        "print(\"Successfully Compiled Model\")"
      ],
      "execution_count": 6,
      "outputs": [
        {
          "output_type": "stream",
          "text": [
            "Successfully Compiled Model\n"
          ],
          "name": "stdout"
        }
      ]
    },
    {
      "metadata": {
        "id": "gxAXf7QHXLYd",
        "colab_type": "text"
      },
      "cell_type": "markdown",
      "source": [
        "**Training the Model**"
      ]
    },
    {
      "metadata": {
        "id": "ojovdVZRX0zt",
        "colab_type": "code",
        "colab": {
          "base_uri": "https://localhost:8080/",
          "height": 13586
        },
        "outputId": "86a742b7-ff13-4d25-9123-0351427e4a84"
      },
      "cell_type": "code",
      "source": [
        "#Number of epochs\n",
        "num_iterations = 50\n",
        "batch_size = 128\n",
        "words_to_generate = 50\n",
        "\n",
        "prev_loss = math.inf\n",
        "loss_history = []\n",
        "accuracy_history = []\n",
        "\n",
        "val_loss_history = []\n",
        "val_accuracy_history = []\n",
        "\n",
        "weights_dir = 'weights/'\n",
        "\n",
        "if not os.path.exists(weights_dir):\n",
        "  os.makedirs(weights_dir)\n",
        "\n",
        "# train the model, output generated text after each iteration\n",
        "for i in range(num_iterations):\n",
        "    \n",
        "    print('\\n' + '-'*10 + ' epoch ' + str(i+1) + '/' + str(num_iterations) + ' ' + '-'*10)\n",
        "        \n",
        "    history = model.fit(x, y, batch_size=batch_size, epochs=1)\n",
        "    \n",
        "    curr_loss = history.history['loss'][0]\n",
        "    loss_history.append(curr_loss)\n",
        "    \n",
        "    # save weights if loss improves\n",
        "    if (curr_loss < prev_loss):\n",
        "        print(\"Loss improved from \" + str(prev_loss) + \" to \" + str(curr_loss) + \". Saving weights.\")\n",
        "        #Saving model in hdf5(Hierarchical Data Format) file\n",
        "        #model.save_weights(weights_dir + 'weights_epoch-{}_loss-{}.hdf5'.format(i, curr_loss))\n",
        "        model.save_weights(weights_dir + 'weights_min.hdf5'.format(i, curr_loss))\n",
        "        prev_loss = curr_loss\n",
        "    \n",
        "    #Randomly intialize the index from the whole corpus\n",
        "    start_index = random.randint(0, total_num_words - sequence_length - 1)\n",
        "    seed_sentence = all_words[start_index : start_index + sequence_length]\n",
        "\n",
        "    print('\\n-> seed: \"' + ' '.join(seed_sentence) + '\" ...\\n')\n",
        "\n",
        "    generated_sentece =[]\n",
        "    \n",
        "    for i in range(words_to_generate):\n",
        "        \n",
        "        x_input = np.zeros((1, sequence_length, len_vocab))\n",
        "        for t, word in enumerate(seed_sentence):\n",
        "            x_input[0, t, word_to_int[word]] = 1.\n",
        "\n",
        "        predictions = model.predict(x_input, verbose=0)[0]\n",
        "        \n",
        "        if i == num_iterations-1:\n",
        "            final_predicted = predictions\n",
        "        \n",
        "        # Fetching the highest probable words\n",
        "        predicted_word_index = np.argmax(predictions) \n",
        "        predicted_word = int_to_word[predicted_word_index]\n",
        "\n",
        "        seed_sentence = seed_sentence[1:] + list([predicted_word])\n",
        "\n",
        "        if re.match('[a-z]', predicted_word):\n",
        "            generated_sentece.append(\" \" + predicted_word)\n",
        "        else:\n",
        "            generated_sentece.append(predicted_word)\n",
        "        \n",
        "    #print(generated_sentece)\n",
        "    print (''.join(word for word in generated_sentece))"
      ],
      "execution_count": 7,
      "outputs": [
        {
          "output_type": "stream",
          "text": [
            "\n",
            "---------- epoch 1/50 ----------\n",
            "Epoch 1/1\n",
            "12586/12586 [==============================] - 11s 904us/step - loss: 6.3215\n",
            "Loss improved from inf to 6.3214674719600294. Saving weights.\n",
            "\n",
            "-> seed: \"me on how can i repair my grub \n",
            " amphi , actually i am \n",
            "\" ...\n",
            "\n",
            "\n",
            ",,\n",
            "\n",
            ",,\n",
            "\n",
            ",,\n",
            "\n",
            ",,\n",
            "\n",
            ",,\n",
            "\n",
            ",,\n",
            "\n",
            ",,\n",
            "\n",
            ",,\n",
            "\n",
            ",,\n",
            "\n",
            ",,\n",
            "\n",
            ",,\n",
            "\n",
            ",,\n",
            "\n",
            ",\n",
            "\n",
            "---------- epoch 2/50 ----------\n",
            "Epoch 1/1\n",
            "12586/12586 [==============================] - 10s 777us/step - loss: 5.5343\n",
            "Loss improved from 6.3214674719600294 to 5.534329132341949. Saving weights.\n",
            "\n",
            "-> seed: \"read this at the end \n",
            " ok thank you \n",
            " amphi , dual booting or\" ...\n",
            "\n",
            "\n",
            " i can t know a way to the the server.... com com com com com com com com okee automatrix vert vert grief okee okee grief grief hahahah ok\n",
            " i can t need to the to the to the.... com\n",
            "\n",
            "---------- epoch 3/50 ----------\n",
            "Epoch 1/1\n",
            " 5632/12586 [============>.................] - ETA: 5s - loss: 4.9882"
          ],
          "name": "stdout"
        },
        {
          "output_type": "stream",
          "text": [
            "12586/12586 [==============================] - 10s 777us/step - loss: 4.9798\n",
            "Loss improved from 5.534329132341949 to 4.979834245002537. Saving weights.\n",
            "\n",
            "-> seed: \". \n",
            " in the expert install you can set it up to have a root\" ...\n",
            "\n",
            "..................................................\n",
            "\n",
            "---------- epoch 4/50 ----------\n",
            "Epoch 1/1\n",
            "12586/12586 [==============================] - 10s 777us/step - loss: 4.4930\n",
            "Loss improved from 4.979834245002537 to 4.492977640084388. Saving weights.\n",
            "\n",
            "-> seed: \"you ve got a third drive , maybe raid \n",
            " alwaysicey , what i m\" ...\n",
            "\n",
            " install\n",
            " what is the same problem\n",
            " i can t get it to use the same problem\n",
            " i can t get it to my the server\n",
            " i can t a a cd\n",
            " i have to a way to do it\n",
            " it, i can t\n",
            "\n",
            "---------- epoch 5/50 ----------\n",
            "Epoch 1/1\n",
            " 7552/12586 [=================>............] - ETA: 3s - loss: 3.9220"
          ],
          "name": "stdout"
        },
        {
          "output_type": "stream",
          "text": [
            "12586/12586 [==============================] - 10s 778us/step - loss: 3.9580\n",
            "Loss improved from 4.492977640084388 to 3.958039065868245. Saving weights.\n",
            "\n",
            "-> seed: \"stereo \n",
            " i m looking for help with agpgart and a radeon \n",
            " terry ,\" ...\n",
            "\n",
            "\n",
            " what s\n",
            " i can t be the of in the same and then, but it\n",
            " is there a way to do that\n",
            " i can t use the kernel, and and then, and then, and then, and then, it s\n",
            "\n",
            "\n",
            "---------- epoch 6/50 ----------\n",
            "Epoch 1/1\n",
            "12586/12586 [==============================] - 10s 779us/step - loss: 3.3399\n",
            "Loss improved from 3.958039065868245 to 3.3398974166089963. Saving weights.\n",
            "\n",
            "-> seed: \"amule but i want to uninstall it , how can i know what is the\" ...\n",
            "\n",
            " name.\n",
            " can you get a kernel\n",
            " what the ubuntu\n",
            "\n",
            " you can use help me with the ubuntu\n",
            "!\n",
            "\n",
            " i don t\n",
            " i have a problem...\n",
            " i get not\n",
            " i m not\n",
            " ok\n",
            " i m\n",
            "\n",
            "---------- epoch 7/50 ----------\n",
            "Epoch 1/1\n",
            " 5248/12586 [===========>..................] - ETA: 5s - loss: 2.5300"
          ],
          "name": "stdout"
        },
        {
          "output_type": "stream",
          "text": [
            "12586/12586 [==============================] - 10s 781us/step - loss: 2.7475\n",
            "Loss improved from 3.3398974166089963 to 2.7475318663945814. Saving weights.\n",
            "\n",
            "-> seed: \"formatting it clean \n",
            " sivik i currently have ubuntu installed an no spare partitions ,\" ...\n",
            "\n",
            " but not be be for for a server in an server work\n",
            " i am not sure what you can someone me the ubuntu.\n",
            " what is the way to do this\n",
            " i have no problem. i have a server...\n",
            " so i just\n",
            "\n",
            "---------- epoch 8/50 ----------\n",
            "Epoch 1/1\n",
            "12586/12586 [==============================] - 10s 783us/step - loss: 2.2050\n",
            "Loss improved from 2.7475318663945814 to 2.2049525128095873. Saving weights.\n",
            "\n",
            "-> seed: \", but you might need more than that is that one of those shared memory\" ...\n",
            "\n",
            " use a bit of of to sivik, i ve so it s!\n",
            "! tell t about a can i know a new install, i had to use it...\n",
            " i have a server with with my am on for for for.\n",
            "\n",
            "\n",
            "---------- epoch 9/50 ----------\n",
            "Epoch 1/1\n",
            " 3968/12586 [========>.....................] - ETA: 6s - loss: 1.4876"
          ],
          "name": "stdout"
        },
        {
          "output_type": "stream",
          "text": [
            "12586/12586 [==============================] - 10s 781us/step - loss: 1.7382\n",
            "Loss improved from 2.2049525128095873 to 1.7381698581347609. Saving weights.\n",
            "\n",
            "-> seed: \"is your swap partition , iirc from your fdisk l output what is the kernel\" ...\n",
            "\n",
            " command t\n",
            " grub is the command line\n",
            " ok, but i think a little question, how can i do it\n",
            " you installed on the the command line you should be at all the command line you should be at for the command if you guys\n",
            "\n",
            "\n",
            "---------- epoch 10/50 ----------\n",
            "Epoch 1/1\n",
            "12586/12586 [==============================] - 10s 778us/step - loss: 1.4039\n",
            "Loss improved from 1.7381698581347609 to 1.4038560294241174. Saving weights.\n",
            "\n",
            "-> seed: \"up with nautilus . i remember i used to be able to do such a\" ...\n",
            "\n",
            " or an hd, just cant cant now i get it would use for best;\n",
            " no pastebin a dli, what should i do that\n",
            " i have no server\n",
            " yes\n",
            " yes\n",
            " yes, so s only get install now\n",
            " no no there there\n",
            "\n",
            "---------- epoch 11/50 ----------\n",
            "Epoch 1/1\n",
            " 3712/12586 [=======>......................] - ETA: 6s - loss: 0.8537"
          ],
          "name": "stdout"
        },
        {
          "output_type": "stream",
          "text": [
            "12586/12586 [==============================] - 10s 777us/step - loss: 1.1264\n",
            "Loss improved from 1.4038560294241174 to 1.1264053344461358. Saving weights.\n",
            "\n",
            "-> seed: \"the right repo needed to install mplayer \n",
            " tried running the command on both \n",
            "\" ...\n",
            "\n",
            " dli, what should i do next\n",
            " hymntolife, install any ubuntu ubuntu.....\n",
            " so i can i install it\n",
            " so it is now known as helldragon\n",
            " i didnt it a root in the ubuntu partition\n",
            " tagabasak, sorry, i\n",
            "\n",
            "---------- epoch 12/50 ----------\n",
            "Epoch 1/1\n",
            "12586/12586 [==============================] - 10s 779us/step - loss: 0.9513\n",
            "Loss improved from 1.1264053344461358 to 0.9513139186082764. Saving weights.\n",
            "\n",
            "-> seed: \"sivik , when i try to remount it it says no entry in fstab ,\" ...\n",
            "\n",
            " because you it it in the ubuntu server\n",
            " i mean so that s;\n",
            "\n",
            " you can t a vnc in work\n",
            " then use how can i know the x from a....\n",
            "; i know my ubuntu\n",
            " i installed..\n",
            "\n",
            "---------- epoch 13/50 ----------\n",
            "Epoch 1/1\n",
            " 3968/12586 [========>.....................] - ETA: 6s - loss: 0.5493"
          ],
          "name": "stdout"
        },
        {
          "output_type": "stream",
          "text": [
            "12586/12586 [==============================] - 10s 778us/step - loss: 0.8300\n",
            "Loss improved from 0.9513139186082764 to 0.8299943528170808. Saving weights.\n",
            "\n",
            "-> seed: \"i should be on grub prompt \n",
            " lemme see \n",
            " ubotu , sudo dpkg i\" ...\n",
            "\n",
            " package... did that i ubuntu it up the\n",
            " i can i ve vnc\n",
            " dli, what i do i mean\n",
            " what is the disk info\n",
            " again\n",
            " ok ok\n",
            " i can t\n",
            " you can use\n",
            " ok\n",
            " how can i\n",
            "\n",
            "---------- epoch 14/50 ----------\n",
            "Epoch 1/1\n",
            "12586/12586 [==============================] - 10s 779us/step - loss: 0.7283\n",
            "Loss improved from 0.8299943528170808 to 0.7283145677545161. Saving weights.\n",
            "\n",
            "-> seed: \"isn t enough information in the stuff you ve pasted above to diagnose your problem\" ...\n",
            "\n",
            "\n",
            "..\n",
            " yes, but that s no im.\n",
            " no problem\n",
            " hymntolife, ok. that.... i dont know i can get a new\n",
            " sivik, yes\n",
            " i do you with windows didn t i have.\n",
            " yes\n",
            "\n",
            "---------- epoch 15/50 ----------\n",
            "Epoch 1/1\n",
            " 4736/12586 [==========>...................] - ETA: 6s - loss: 0.4379"
          ],
          "name": "stdout"
        },
        {
          "output_type": "stream",
          "text": [
            "12586/12586 [==============================] - 10s 777us/step - loss: 0.6588\n",
            "Loss improved from 0.7283145677545161 to 0.6588314532210712. Saving weights.\n",
            "\n",
            "-> seed: \"sda \n",
            " it s great , it ll really simplify any of that stuff if\" ...\n",
            "\n",
            " i have your new user it on it same not have you can sudo fdisk it dev hda and it can i can get it when you run and it it it\n",
            " you you need to open the new user ubuntu lol i installed when i run and it\n",
            "\n",
            "---------- epoch 16/50 ----------\n",
            "Epoch 1/1\n",
            "12586/12586 [==============================] - 10s 777us/step - loss: 0.6136\n",
            "Loss improved from 0.6588314532210712 to 0.6136032295079294. Saving weights.\n",
            "\n",
            "-> seed: \", i ll just take a peak \n",
            " i think \n",
            " yep . that s\" ...\n",
            "\n",
            " help with some name\n",
            " i can t get anything of a name... does that s if you want to get a way to do something\n",
            " but with is there way to do this\n",
            " amphi, i do that\n",
            " you ve still a right\n",
            "\n",
            "---------- epoch 17/50 ----------\n",
            "Epoch 1/1\n",
            " 4352/12586 [=========>....................] - ETA: 6s - loss: 0.3434"
          ],
          "name": "stdout"
        },
        {
          "output_type": "stream",
          "text": [
            "12586/12586 [==============================] - 10s 776us/step - loss: 0.5842\n",
            "Loss improved from 0.6136032295079294 to 0.5841559080181186. Saving weights.\n",
            "\n",
            "-> seed: \"as sub off \n",
            " i get into a blue screen \n",
            " with options \n",
            " for\" ...\n",
            "\n",
            " selecting selecting tagabasak, tagabasak, read grub, grub is the now error!\n",
            " http paste. ubuntu nl. org\n",
            " should i m kernel not this, and then run the kernel says to and the server to do it is dapper so after is there\n",
            "\n",
            "---------- epoch 18/50 ----------\n",
            "Epoch 1/1\n",
            "12586/12586 [==============================] - 10s 776us/step - loss: 0.5478\n",
            "Loss improved from 0.5841559080181186 to 0.5478337316469113. Saving weights.\n",
            "\n",
            "-> seed: \"using l label or by uuid , using u uuid . \n",
            " nffrsvw o options\" ...\n",
            "\n",
            " p\n",
            "\n",
            "\n",
            " what is when i any helldragon\n",
            " there you can i get my ubuntu that\n",
            "\n",
            " you perhaps more\n",
            " yes is what s you mean what s is the way\n",
            " dli, what should do do you mean what what is the cd\n",
            "\n",
            "---------- epoch 19/50 ----------\n",
            "Epoch 1/1\n",
            " 3840/12586 [========>.....................] - ETA: 6s - loss: 0.3024"
          ],
          "name": "stdout"
        },
        {
          "output_type": "stream",
          "text": [
            "12586/12586 [==============================] - 10s 781us/step - loss: 0.5300\n",
            "Loss improved from 0.5478337316469113 to 0.5300141778674959. Saving weights.\n",
            "\n",
            "-> seed: \"hel that , methinks . . . \n",
            " i hitted e , hitted e another\" ...\n",
            "\n",
            " then then it and type, and is things a need to to with that\n",
            " no such i or directory\n",
            " i tried not\n",
            " what is are what\n",
            " but do\n",
            " how can i know the how do i there a no like is there there\n",
            "\n",
            "\n",
            "---------- epoch 20/50 ----------\n",
            "Epoch 1/1\n",
            "12586/12586 [==============================] - 10s 780us/step - loss: 0.5114\n",
            "Loss improved from 0.5300141778674959 to 0.5113816865767656. Saving weights.\n",
            "\n",
            "-> seed: \"to my ubuntu thunderbird \n",
            " dli , do i have to make direcory proc on\" ...\n",
            "\n",
            " on\n",
            " hda\n",
            "!\n",
            "!\n",
            "!\n",
            "!\n",
            "! wine!!!!!!!!!!!!!!!!!!!!!!!!!!!!!!!!!!!!\n",
            "\n",
            "---------- epoch 21/50 ----------\n",
            "Epoch 1/1\n",
            " 4608/12586 [=========>....................] - ETA: 6s - loss: 0.3230"
          ],
          "name": "stdout"
        },
        {
          "output_type": "stream",
          "text": [
            "12586/12586 [==============================] - 10s 781us/step - loss: 0.5228\n",
            "\n",
            "-> seed: \"windows \n",
            " metalhedd , shit man i guess i will come back some other time\" ...\n",
            "\n",
            ", get get to there\n",
            " no, there is no mplayer\n",
            " what s\n",
            " the problem... oh for it to one that the the is in the server is you mean\n",
            " what s\n",
            " hmm is... does so it it is\n",
            "\n",
            "---------- epoch 22/50 ----------\n",
            "Epoch 1/1\n",
            "12586/12586 [==============================] - 10s 781us/step - loss: 0.4997\n",
            "Loss improved from 0.5113816865767656 to 0.4997012682830929. Saving weights.\n",
            "\n",
            "-> seed: \"fwiw , but it was alt ctrl some meta key fn \n",
            " thanks \n",
            " okay\" ...\n",
            "\n",
            ", run with use\n",
            " you know what s get install there\n",
            " no the dli, i should be a little slow, there graphics can a installed the get install to my ubuntu, and it on the livecd to have am but not really how can i\n",
            "\n",
            "---------- epoch 23/50 ----------\n",
            "Epoch 1/1\n",
            " 6144/12586 [=============>................] - ETA: 4s - loss: 0.3127"
          ],
          "name": "stdout"
        },
        {
          "output_type": "stream",
          "text": [
            "12586/12586 [==============================] - 10s 780us/step - loss: 0.4931\n",
            "Loss improved from 0.4997012682830929 to 0.4931246552390816. Saving weights.\n",
            "\n",
            "-> seed: \"or used a laptop with ubuntu . \n",
            " which fs do you use \n",
            " \n",
            "\" ...\n",
            "\n",
            " didn, my use is there any\n",
            " i dont my the server is to hda\n",
            " cd,\n",
            " know as that i\n",
            " no use\n",
            " what i just just the new but i have to have to do that.. have to do that\n",
            " managu\n",
            "\n",
            "---------- epoch 24/50 ----------\n",
            "Epoch 1/1\n",
            "12586/12586 [==============================] - 10s 780us/step - loss: 0.4773\n",
            "Loss improved from 0.4931246552390816 to 0.47728081172322995. Saving weights.\n",
            "\n",
            "-> seed: \"\n",
            " got \n",
            " nelisa , how can i fix this \n",
            " capitalization error \n",
            " sudo\" ...\n",
            "\n",
            " you get my and i\n",
            " see it s yes\n",
            " i just installed it and i can t really it to work\n",
            " ubuntu dapper i if i have to edit the screen\n",
            " no...... so i have no back the time time\n",
            "\n",
            "---------- epoch 25/50 ----------\n",
            "Epoch 1/1\n",
            " 4864/12586 [==========>...................] - ETA: 5s - loss: 0.2796"
          ],
          "name": "stdout"
        },
        {
          "output_type": "stream",
          "text": [
            "12586/12586 [==============================] - 10s 778us/step - loss: 0.4933\n",
            "\n",
            "-> seed: \"human beings . . \n",
            " its for animal beings \n",
            " darwin try saying yes \n",
            "\" ...\n",
            "\n",
            " grub grub\n",
            " now is just just installed\n",
            " and it run it says that it\n",
            " because need to the files with that\n",
            " the an error that run this doesn\n",
            " amphi, any linux to on that that s no fault\n",
            " ok\n",
            " how m i\n",
            "\n",
            "---------- epoch 26/50 ----------\n",
            "Epoch 1/1\n",
            "12586/12586 [==============================] - 10s 778us/step - loss: 0.4640\n",
            "Loss improved from 0.47728081172322995 to 0.4640009810506644. Saving weights.\n",
            "\n",
            "-> seed: \"bought , yesterday , was a dud . . so i took it back today\" ...\n",
            "\n",
            " you forgot\n",
            " one at had the problem with. i. the know i m not\n",
            " yes\n",
            " but this is what\n",
            " i tried\n",
            " what trying to work\n",
            "\n",
            " anyone, but i run is wait it\n",
            " yes\n",
            " if that s the not\n",
            "\n",
            "---------- epoch 27/50 ----------\n",
            "Epoch 1/1\n",
            " 5632/12586 [============>.................] - ETA: 5s - loss: 0.2703"
          ],
          "name": "stdout"
        },
        {
          "output_type": "stream",
          "text": [
            "12586/12586 [==============================] - 10s 775us/step - loss: 0.4722\n",
            "\n",
            "-> seed: \"of firefox . from source \n",
            " how can i know what ports i have open\" ...\n",
            "\n",
            "\n",
            "! i\n",
            " ubuntu user and windows...\n",
            " am\n",
            " doing here as\n",
            " the me, the file there there a to to the game with with\n",
            " i ve linux newbie some webmin\n",
            " dli has at about that\n",
            " the do you have\n",
            "\n",
            "---------- epoch 28/50 ----------\n",
            "Epoch 1/1\n",
            "12586/12586 [==============================] - 10s 778us/step - loss: 0.4586\n",
            "Loss improved from 0.4640009810506644 to 0.4586456458670487. Saving weights.\n",
            "\n",
            "-> seed: \"\n",
            " yeah \n",
            " it looks fine to me \n",
            " okay , done . \n",
            " sudo\" ...\n",
            "\n",
            " i ubuntu. for a wiki of!\n",
            " darwin, the not not that a be in to have an option to that to old, so so did i m not or how they i set t up i or would when i type it was it\n",
            "\n",
            "\n",
            "---------- epoch 29/50 ----------\n",
            "Epoch 1/1\n",
            " 6016/12586 [=============>................] - ETA: 5s - loss: 0.2669"
          ],
          "name": "stdout"
        },
        {
          "output_type": "stream",
          "text": [
            "12586/12586 [==============================] - 10s 779us/step - loss: 0.4484\n",
            "Loss improved from 0.4586456458670487 to 0.44843715799644757. Saving weights.\n",
            "\n",
            "-> seed: \"fstab \n",
            " how do i run it once it s installed \n",
            " mount device at\" ...\n",
            "\n",
            " if you gnome run in or in dont to know what in the name\n",
            " the package that make it okay.\n",
            " you want to i have a just question what, you you be an. or something an, and there the no such. or there\n",
            "\n",
            "---------- epoch 30/50 ----------\n",
            "Epoch 1/1\n",
            "12586/12586 [==============================] - 10s 784us/step - loss: 0.4339\n",
            "Loss improved from 0.44843715799644757 to 0.43391553350307976. Saving weights.\n",
            "\n",
            "-> seed: \"\n",
            " well , brute forcing my password is impossible . \n",
            " k wait a second\" ...\n",
            "\n",
            " sorry sorry\n",
            " i, there is it in my server it is is the make the server is\n",
            " the, is i dont have i do it\n",
            " yes, get the the is on the server with a program newbie\n",
            " what, the disk that\n",
            "\n",
            "\n",
            "---------- epoch 31/50 ----------\n",
            "Epoch 1/1\n",
            " 3968/12586 [========>.....................] - ETA: 6s - loss: 0.2077"
          ],
          "name": "stdout"
        },
        {
          "output_type": "stream",
          "text": [
            "12586/12586 [==============================] - 10s 782us/step - loss: 0.4245\n",
            "Loss improved from 0.43391553350307976 to 0.4245129962064457. Saving weights.\n",
            "\n",
            "-> seed: \"enable universe and multiverse \n",
            " yes \n",
            " can i use any of those \n",
            " !\" ...\n",
            "\n",
            " you\n",
            " an know your,. you know there of the way to linux this\n",
            " tagabasak, after that\n",
            " probably, webmin it\n",
            " yes, what is the command line... if i was using the x driver is it this\n",
            " and ubuntu\n",
            "\n",
            "---------- epoch 32/50 ----------\n",
            "Epoch 1/1\n",
            "12586/12586 [==============================] - 10s 781us/step - loss: 0.4391\n",
            "\n",
            "-> seed: \"want into a jpg \n",
            " nop . . . just that file \n",
            " lemme see\" ...\n",
            "\n",
            ". is, etc, but i dont still i dont, i ve the my it i just was for\n",
            " you do\n",
            " it s something, but the see what it is there\n",
            " no, there is is there apt way to get it or my\n",
            "\n",
            "---------- epoch 33/50 ----------\n",
            "Epoch 1/1\n",
            " 4480/12586 [=========>....................] - ETA: 6s - loss: 0.2427\b\b\b\b\b\b\b\b\b\b\b\b\b\b\b\b\b\b\b\b\b\b\b\b\b\b\b\b\b\b\b\b\b\b\b\b\b\b\b\b\b\b\b\b\b\b\b\b\b\b\b\b\b\b\b\b\b\b\b\b\b\b\b\b\b\b\b\b\b"
          ],
          "name": "stdout"
        },
        {
          "output_type": "stream",
          "text": [
            "12586/12586 [==============================] - 10s 779us/step - loss: 0.4375\n",
            "\n",
            "-> seed: \"and tell people the url \n",
            " how s that \n",
            " hmm i don t know\" ...\n",
            "\n",
            " one one of dont\n",
            " sivik, yes\n",
            " it is is now\n",
            " can i ubuntu any the how to do it.. i m not\n",
            " sure what what the do i mean to root is have to use the wine\n",
            "! preface!!!\n",
            "\n",
            "---------- epoch 34/50 ----------\n",
            "Epoch 1/1\n",
            "12586/12586 [==============================] - 10s 780us/step - loss: 0.4450\n",
            "\n",
            "-> seed: \"video \n",
            " the ubuntu installer will overwrite the boot record with a boot loader ,\" ...\n",
            "\n",
            " present present and and and and then the the same one\n",
            " the ve will but not i installed\n",
            " any,\n",
            " how see i. the s trio is the server is\n",
            " any not t my cd\n",
            " i there are a a installed\n",
            " i do\n",
            "\n",
            "---------- epoch 35/50 ----------\n",
            "Epoch 1/1\n",
            " 6784/12586 [===============>..............] - ETA: 4s - loss: 0.2977"
          ],
          "name": "stdout"
        },
        {
          "output_type": "stream",
          "text": [
            "12586/12586 [==============================] - 10s 777us/step - loss: 0.4555\n",
            "\n",
            "-> seed: \"like , totally , https wiki . ubuntu . com sshhowto or https wiki .\" ...\n",
            "\n",
            " ubuntu. com there\n",
            " way to\n",
            " or some resolution there is.\n",
            " you dont try a\n",
            " of is, but i just the root it but. did you get if there user, and i dont t the root\n",
            " oh\n",
            " ok\n",
            " darwin\n",
            "\n",
            "---------- epoch 36/50 ----------\n",
            "Epoch 1/1\n",
            "12586/12586 [==============================] - 10s 784us/step - loss: 0.4424\n",
            "\n",
            "-> seed: \"integration stuff may not work those des must be for something ; , but the\" ...\n",
            "\n",
            " root profs to\n",
            "\n",
            "\n",
            " didnt can the managu in grub what with install do\n",
            " linux problem look work\n",
            " grub does i install it\n",
            " yes is not the it.\n",
            " dli, done\n",
            "\n",
            " i\n",
            " tried\n",
            " what s that do\n",
            " old\n",
            "\n",
            "---------- epoch 37/50 ----------\n",
            "Epoch 1/1\n",
            " 5888/12586 [=============>................] - ETA: 5s - loss: 0.2636"
          ],
          "name": "stdout"
        },
        {
          "output_type": "stream",
          "text": [
            "12586/12586 [==============================] - 10s 782us/step - loss: 0.4603\n",
            "\n",
            "-> seed: \"! limewire \n",
            " first you need ! java , then download the http www .\" ...\n",
            "\n",
            " ubuntu. org and i the trying to files it in the, i am\n",
            " i need to some with with not nvidia i it trying to before\n",
            " for have\n",
            " to same that for the same and, my ubuntu.\n",
            "!\n",
            "!\n",
            " please\n",
            "\n",
            "---------- epoch 38/50 ----------\n",
            "Epoch 1/1\n",
            "12586/12586 [==============================] - 10s 778us/step - loss: 0.4590\n",
            "\n",
            "-> seed: \"iso image and burning it simultaneously . things might work better if you did those\" ...\n",
            "\n",
            " those, humm is it\n",
            " i need to do with windows that if i is the root with a\n",
            " do that\n",
            " about some is the about the. this is is any way to do that\n",
            " nv, then my it but be at for this\n",
            "\n",
            "---------- epoch 39/50 ----------\n",
            "Epoch 1/1\n",
            " 6272/12586 [=============>................] - ETA: 4s - loss: 0.2908"
          ],
          "name": "stdout"
        },
        {
          "output_type": "stream",
          "text": [
            "12586/12586 [==============================] - 10s 775us/step - loss: 0.4715\n",
            "\n",
            "-> seed: \"no lo puedo installar . . . . \n",
            " ! glibc \n",
            " i haven t\" ...\n",
            "\n",
            " a a problem\n",
            " in the here, i do\n",
            " tell, the error\n",
            "\n",
            " you have to use the wine for the ubuntu but in the same password in\n",
            " but but sure with the command line. i need to i m not to the files\n",
            "\n",
            "---------- epoch 40/50 ----------\n",
            "Epoch 1/1\n",
            "12586/12586 [==============================] - 10s 779us/step - loss: 0.4811\n",
            "\n",
            "-> seed: \"i pod , do i extract them from database \n",
            " theres a winechat right \n",
            "\" ...\n",
            "\n",
            " dli, what i do i have to with to\n",
            " me\n",
            " i use the to and\n",
            " but sure\n",
            " what s what\n",
            " of\n",
            "\n",
            " what,\n",
            " you how to get the other a, say\n",
            " mount windows\n",
            " on p\n",
            " i s\n",
            "\n",
            "---------- epoch 41/50 ----------\n",
            "Epoch 1/1\n",
            " 6784/12586 [===============>..............] - ETA: 4s - loss: 0.3000"
          ],
          "name": "stdout"
        },
        {
          "output_type": "stream",
          "text": [
            "12586/12586 [==============================] - 10s 776us/step - loss: 0.4513\n",
            "\n",
            "-> seed: \"cdrom it should be bootable \n",
            " khoacalacan , http www . ubuntuforums . org showthread\" ...\n",
            "\n",
            ". php t read couldn wasn the same driver\n",
            " this problem,...\n",
            " for what dapper of root\n",
            " i could the on you gb,, can you get me in the can run open it in in terminal\n",
            " my, sudo on apt\n",
            "\n",
            "---------- epoch 42/50 ----------\n",
            "Epoch 1/1\n",
            "12586/12586 [==============================] - 10s 778us/step - loss: 0.4524\n",
            "\n",
            "-> seed: \"to gui . . becaus of the alerts . im on a shell now .\" ...\n",
            "\n",
            "\n",
            " p\n",
            " i know what to do\n",
            "\n",
            " what\n",
            " is do\n",
            ".\n",
            " there, if you is your root partition\n",
            " i do you have and, then and should\n",
            " should anyone\n",
            " no, there is segfaulting way\n",
            " i dont to do\n",
            "\n",
            "---------- epoch 43/50 ----------\n",
            "Epoch 1/1\n",
            " 6912/12586 [===============>..............] - ETA: 4s - loss: 0.2899"
          ],
          "name": "stdout"
        },
        {
          "output_type": "stream",
          "text": [
            "12586/12586 [==============================] - 10s 777us/step - loss: 0.4487\n",
            "\n",
            "-> seed: \"down to the server just to fix that \n",
            " maximum size you mean i don\" ...\n",
            "\n",
            " t know to google is to an\n",
            " it s in the ubuntu any\n",
            "\n",
            " how would i fix them\n",
            " you, it s in\n",
            " you have to other them ubuntu. a..............\n",
            "\n",
            "---------- epoch 44/50 ----------\n",
            "Epoch 1/1\n",
            "12586/12586 [==============================] - 10s 776us/step - loss: 0.4441\n",
            "\n",
            "-> seed: \". ew clan . co . uk tuts images webtut . jpg \n",
            " thats how\" ...\n",
            "\n",
            " it do\n",
            " i just into a and\n",
            " my my is\n",
            " darwin, you get the there is is there way to get it to can that\n",
            " you can\n",
            " fdisk it you be what is the command and\n",
            " all\n",
            " my ubuntu is there for\n",
            "\n",
            "---------- epoch 45/50 ----------\n",
            "Epoch 1/1\n",
            " 7680/12586 [=================>............] - ETA: 3s - loss: 0.3323"
          ],
          "name": "stdout"
        },
        {
          "output_type": "stream",
          "text": [
            "12586/12586 [==============================] - 10s 783us/step - loss: 0.4641\n",
            "\n",
            "-> seed: \"wrong \n",
            " rug , i almost missed that . \n",
            " that is the way to\" ...\n",
            "\n",
            " do something\n",
            " perhaps, i m not, you, but i would there your a way to do something\n",
            " but, i have to install it, and i run run from it s this\n",
            " is,, and.\n",
            " now, what is the\n",
            "\n",
            "---------- epoch 46/50 ----------\n",
            "Epoch 1/1\n",
            "12586/12586 [==============================] - 10s 780us/step - loss: 0.4679\n",
            "\n",
            "-> seed: \"to this \n",
            " ok thanks man \n",
            " amphi , it s in home cs warservers\" ...\n",
            "\n",
            ".. no no, i can use get my my\n",
            ".\n",
            " can, get my ubuntu is!\n",
            "!,\n",
            " http www. gnomefiles. org app. php soft id\n",
            " foo, didn, and s what it is is the way one\n",
            "\n",
            "---------- epoch 47/50 ----------\n",
            "Epoch 1/1\n",
            " 7808/12586 [=================>............] - ETA: 3s - loss: 0.3504"
          ],
          "name": "stdout"
        },
        {
          "output_type": "stream",
          "text": [
            "12586/12586 [==============================] - 10s 780us/step - loss: 0.4614\n",
            "\n",
            "-> seed: \"open or how do u install programs \n",
            " blanky is now known as blank \n",
            "\" ...\n",
            "\n",
            " you have have have same working with the got but but driver with says not the the; i dli ok\n",
            "..\n",
            " can t help me for the\n",
            " you have use use yes to do\n",
            " but so think what is the got on driver\n",
            "\n",
            "\n",
            "---------- epoch 48/50 ----------\n",
            "Epoch 1/1\n",
            "12586/12586 [==============================] - 10s 779us/step - loss: 0.4798\n",
            "\n",
            "-> seed: \"ubuntu laptop \n",
            " i ve got ubuntu running at x on an acer with an\" ...\n",
            "\n",
            "\n",
            " card do\n",
            " it s in a.\n",
            " you i am\n",
            " darwin, you are the kernel and\n",
            " it,\n",
            " what it\n",
            " you on what\n",
            " dli, what\n",
            " do do\n",
            " tell about about that you can i can me it in\n",
            "\n",
            "---------- epoch 49/50 ----------\n",
            "Epoch 1/1\n",
            " 6784/12586 [===============>..............] - ETA: 4s - loss: 0.3187"
          ],
          "name": "stdout"
        },
        {
          "output_type": "stream",
          "text": [
            "12586/12586 [==============================] - 10s 775us/step - loss: 0.4680\n",
            "\n",
            "-> seed: \"you built yourself \n",
            " no \n",
            " from what i hear , webmin is not for\" ...\n",
            "\n",
            " a;\n",
            "! is there a\n",
            " to, it here. i have a sound question even that to it be, but you can t get it to can ubuntu\n",
            " i installed\n",
            " but... a s install it\n",
            " yes, darwin the\n",
            "\n",
            "---------- epoch 50/50 ----------\n",
            "Epoch 1/1\n",
            "12586/12586 [==============================] - 10s 776us/step - loss: 0.4826\n",
            "\n",
            "-> seed: \"mas ayuda . \n",
            " \n",
            " well i find it very disorganized and confusing for newcomers\" ...\n",
            "\n",
            " it\n",
            " know is there way to do the\n",
            " ghost, the have to driver is as\n",
            " dli, i can me, how do i run the deb in i\n",
            " how, i run the deb\n",
            " im,\n",
            " i, t\n",
            " no such\n"
          ],
          "name": "stdout"
        }
      ]
    },
    {
      "metadata": {
        "id": "YtNE5ouCsrCi",
        "colab_type": "code",
        "colab": {
          "base_uri": "https://localhost:8080/",
          "height": 34
        },
        "outputId": "ec01672b-91c1-4d6e-9c01-c9f0e1290336"
      },
      "cell_type": "code",
      "source": [
        "!cd weights/ ; ls"
      ],
      "execution_count": 8,
      "outputs": [
        {
          "output_type": "stream",
          "text": [
            "weights_min.hdf5\r\n"
          ],
          "name": "stdout"
        }
      ]
    },
    {
      "metadata": {
        "id": "bDU0KhgV3X4o",
        "colab_type": "code",
        "colab": {
          "base_uri": "https://localhost:8080/",
          "height": 51
        },
        "outputId": "ff88f662-a977-41a6-9008-e611713fc6d8"
      },
      "cell_type": "code",
      "source": [
        "loss = model.evaluate(x, y, batch_size=batch_size, verbose=1)\n",
        "print(\"loss: \", loss)"
      ],
      "execution_count": 9,
      "outputs": [
        {
          "output_type": "stream",
          "text": [
            "12586/12586 [==============================] - 7s 528us/step\n",
            "loss:  0.18726590942090027\n"
          ],
          "name": "stdout"
        }
      ]
    },
    {
      "metadata": {
        "id": "yXcnUMxH7vmE",
        "colab_type": "code",
        "colab": {
          "base_uri": "https://localhost:8080/",
          "height": 576
        },
        "outputId": "812d0cde-8d3c-439e-c33d-343465aa2b2a"
      },
      "cell_type": "code",
      "source": [
        "print('loss history:')\n",
        "print(loss_history)\n",
        "\n",
        "plt.figure(figsize=(15,8))\n",
        "plt.rc('font', size=20)\n",
        "plt.plot(loss_history, lw=3, c='orange')\n",
        "plt.title('Cross Entropy Loss of LSTM Model over Epochs', fontsize=25)\n",
        "plt.ylabel('Loss')\n",
        "plt.xlabel('Epochs')\n",
        "plt.savefig(\"loss.png\")\n",
        "plt.grid()\n",
        "plt.show()"
      ],
      "execution_count": 10,
      "outputs": [
        {
          "output_type": "stream",
          "text": [
            "loss history:\n",
            "[6.3214674719600294, 5.534329132341949, 4.979834245002537, 4.492977640084388, 3.958039065868245, 3.3398974166089963, 2.7475318663945814, 2.2049525128095873, 1.7381698581347609, 1.4038560294241174, 1.1264053344461358, 0.9513139186082764, 0.8299943528170808, 0.7283145677545161, 0.6588314532210712, 0.6136032295079294, 0.5841559080181186, 0.5478337316469113, 0.5300141778674959, 0.5113816865767656, 0.5228472643657801, 0.4997012682830929, 0.4931246552390816, 0.47728081172322995, 0.4933272648005423, 0.4640009810506644, 0.4721809186902085, 0.4586456458670487, 0.44843715799644757, 0.43391553350307976, 0.4245129962064457, 0.43912618339828935, 0.4375117103852321, 0.44497865997284447, 0.4554619791112567, 0.4423802796388381, 0.4603281440756459, 0.45900044083386904, 0.4714524402122855, 0.48114157434338023, 0.4513406906032456, 0.4524267707609058, 0.44867721792436566, 0.4440940445942851, 0.46410736364418875, 0.4679099219309096, 0.4613881425506717, 0.47979152712177137, 0.46796344699663367, 0.48260684485430183]\n"
          ],
          "name": "stdout"
        },
        {
          "output_type": "display_data",
          "data": {
            "image/png": "[encoded data removed]",
            "text/plain": [
              "<matplotlib.figure.Figure at 0x7fa71270a438>"
            ]
          },
          "metadata": {
            "tags": []
          }
        }
      ]
    },
    {
      "metadata": {
        "id": "XUbkAtsE9GzQ",
        "colab_type": "code",
        "colab": {
          "base_uri": "https://localhost:8080/",
          "height": 289
        },
        "outputId": "96ad4ce0-f5e4-474b-efdc-e2922c67f9ff"
      },
      "cell_type": "code",
      "source": [
        "print(model.summary())"
      ],
      "execution_count": 11,
      "outputs": [
        {
          "output_type": "stream",
          "text": [
            "_________________________________________________________________\n",
            "Layer (type)                 Output Shape              Param #   \n",
            "=================================================================\n",
            "lstm_1 (LSTM)                (None, 256)               3892224   \n",
            "_________________________________________________________________\n",
            "dropout_1 (Dropout)          (None, 256)               0         \n",
            "_________________________________________________________________\n",
            "dense_1 (Dense)              (None, 3544)              910808    \n",
            "_________________________________________________________________\n",
            "activation_1 (Activation)    (None, 3544)              0         \n",
            "=================================================================\n",
            "Total params: 4,803,032\n",
            "Trainable params: 4,803,032\n",
            "Non-trainable params: 0\n",
            "_________________________________________________________________\n",
            "None\n"
          ],
          "name": "stdout"
        }
      ]
    },
    {
      "metadata": {
        "id": "AaPmgcnJC-qI",
        "colab_type": "code",
        "colab": {
          "base_uri": "https://localhost:8080/",
          "height": 34
        },
        "outputId": "1b551f78-ac90-4519-8837-e1c10c855a88"
      },
      "cell_type": "code",
      "source": [
        "#capturing the lowest loss weights\n",
        "!ls weights/\n"
      ],
      "execution_count": 12,
      "outputs": [
        {
          "output_type": "stream",
          "text": [
            "weights_min.hdf5\r\n"
          ],
          "name": "stdout"
        }
      ]
    },
    {
      "metadata": {
        "id": "oGXfzBHLCJvZ",
        "colab_type": "text"
      },
      "cell_type": "markdown",
      "source": [
        "\n",
        "# **Prediction on trained Models' weights**\n",
        "\n",
        "---\n",
        "\n"
      ]
    },
    {
      "metadata": {
        "id": "rTHbAtqe9_Fr",
        "colab_type": "text"
      },
      "cell_type": "markdown",
      "source": [
        "Prediction Model definition"
      ]
    },
    {
      "metadata": {
        "id": "zj8LH6gDCoLH",
        "colab_type": "code",
        "colab": {}
      },
      "cell_type": "code",
      "source": [
        "sequence_length = 15\n",
        "\n",
        "learning_rate = 0.01\n",
        "optimizer = RMSprop(lr=learning_rate)\n",
        "#Number of memory nodes in LSTM model\n",
        "num_memory_units = 256\n",
        "\n",
        "model = Sequential()\n",
        "\n",
        "model.add(LSTM(num_memory_units, input_shape=(sequence_length, len_vocab)))\n",
        "model.add(Dropout(0.2))\n",
        "model.add(Dense(len_vocab))\n",
        "model.add(Activation('softmax'))\n",
        "\n",
        "model.compile(loss='categorical_crossentropy', optimizer=optimizer)"
      ],
      "execution_count": 0,
      "outputs": []
    },
    {
      "metadata": {
        "id": "63SEoHec-u_3",
        "colab_type": "text"
      },
      "cell_type": "markdown",
      "source": [
        "Predicttion"
      ]
    },
    {
      "metadata": {
        "id": "MseG56ao-DL9",
        "colab_type": "code",
        "colab": {}
      },
      "cell_type": "code",
      "source": [
        "def add_temperature(predictions, temperature=1.0):\n",
        "\n",
        "    predictions = np.asarray(predictions).astype('float64')\n",
        "    predictions = np.log(predictions) / temperature\n",
        "    exp_predictions = np.exp(predictions)\n",
        "    predictions = exp_predictions / np.sum(exp_predictions)\n",
        "    \n",
        "    probabilities = np.random.multinomial(1, predictions, 1)\n",
        "    return np.argmax(probabilities)"
      ],
      "execution_count": 0,
      "outputs": []
    },
    {
      "metadata": {
        "id": "a2QkvJb3-1HR",
        "colab_type": "code",
        "colab": {}
      },
      "cell_type": "code",
      "source": [
        "def get_random_word(n=1, array=unique_words):\n",
        "\n",
        "    random_words = []\n",
        "    \n",
        "    random_indices = random.sample(range(0, len(array)), n)\n",
        "    \n",
        "    # in-place shuffle\n",
        "    random.shuffle(array)\n",
        "\n",
        "    # take the first n elements of the now randomized array\n",
        "    return array[:n]"
      ],
      "execution_count": 0,
      "outputs": []
    },
    {
      "metadata": {
        "id": "sH_F3wfB--j7",
        "colab_type": "code",
        "colab": {}
      },
      "cell_type": "code",
      "source": [
        "# load weights of compiled LSTM model\n",
        "weights_path = 'weights/weights_min.hdf5'\n",
        "model.load_weights(weights_path)\n",
        "model.compile(loss='categorical_crossentropy', optimizer='adam')"
      ],
      "execution_count": 0,
      "outputs": []
    },
    {
      "metadata": {
        "id": "4maKGZzz_4gQ",
        "colab_type": "text"
      },
      "cell_type": "markdown",
      "source": [
        "Handling User Inout"
      ]
    },
    {
      "metadata": {
        "id": "EY5qXDIh_66j",
        "colab_type": "code",
        "colab": {}
      },
      "cell_type": "code",
      "source": [
        "random_seed = False"
      ],
      "execution_count": 0,
      "outputs": []
    },
    {
      "metadata": {
        "id": "Rxih4B26ADWM",
        "colab_type": "text"
      },
      "cell_type": "markdown",
      "source": [
        "Selection of seed based on user input (if available) or Random"
      ]
    },
    {
      "metadata": {
        "id": "dF5kaIkM_uF9",
        "colab_type": "code",
        "colab": {}
      },
      "cell_type": "code",
      "source": [
        "def generate_seed(user_input):\n",
        "  #user_input = \"is there a way to lower my screen resolution, Ubuntu loaded tops and is hard on my eyes\"\n",
        "  words_to_generate = 15\n",
        "  seed_sentence = [\"\\n\"] * sequence_length\n",
        "\n",
        "  if not random_seed:\n",
        "\n",
        "      pattern = re.compile('[a-z]+|\\!|\\n|\\.|,|;')\n",
        "      user_input_edit = user_input.lower()\n",
        "      user_input_edit = re.findall(pattern, user_input)\n",
        "\n",
        "      if (len(user_input_edit) > sequence_length):\n",
        "          # need to truncate\n",
        "\n",
        "          seed_sentence = user_input_edit[:sequence_length]\n",
        "\n",
        "      elif (len(user_input_edit) < sequence_length):\n",
        "          # need to pad\n",
        "\n",
        "          # get number of elements missing in user input\n",
        "          missing_elems = sequence_length - len(user_input_edit)\n",
        "\n",
        "          seed_sentence[0:missing_elems+1] = get_random_word(missing_elems)\n",
        "          seed_sentence[-(len(user_input_edit)):] = user_input_edit\n",
        "\n",
        "      # check all words provided are in the vocabulary\n",
        "      for i, word in enumerate(seed_sentence):\n",
        "          # if it doesnt exist, replace it with one that does\n",
        "          if word not in word_to_int.keys():\n",
        "              seed_sentence[i] = get_random_word()[0]\n",
        "\n",
        "      #print('-> seed: \"' + user_input + '\" ...\\n')\n",
        "\n",
        "  else:\n",
        "      #if no seed was not supplied\n",
        "      # pick a random seed\n",
        "      random_index_start = np.random.randint(0, total_num_words - sequence_length - 1)\n",
        "      seed_sentence = all_words[random_index_start : random_index_start + sequence_length]\n",
        "  \n",
        "  return seed_sentence\n",
        "      #print('-> seed: \"' + ' '.join(seed_sentence) + '\" ...')"
      ],
      "execution_count": 0,
      "outputs": []
    },
    {
      "metadata": {
        "id": "qrsC_JvaAfGy",
        "colab_type": "code",
        "colab": {}
      },
      "cell_type": "code",
      "source": [
        "def generate_sentence(user_input,u_number):\n",
        "  generated_sentece =[]\n",
        "  seed_sentence = generate_seed(user_input)\n",
        "  for i in range(words_to_generate):\n",
        "\n",
        "      x_input = np.zeros((1, sequence_length, len_vocab))\n",
        "      for t, word in enumerate(seed_sentence):\n",
        "          x_input[0, t, word_to_int[word]] = 1.\n",
        "\n",
        "      predictions = model.predict(x_input, verbose=0)[0]\n",
        "      predicted_word_index = add_temperature(predictions, 0.5)\n",
        "      predicted_word = int_to_word[predicted_word_index]\n",
        "\n",
        "      seed_sentence = seed_sentence[1:] + list([predicted_word])\n",
        "      if re.match('[a-z]', predicted_word):\n",
        "        generated_sentece.append(\" \" + predicted_word)\n",
        "      else:\n",
        "        generated_sentece.append(predicted_word)\n",
        "    \n",
        "  print(\"User \" + str(u_number) + \" is saying :\")\n",
        "  print()\n",
        "  print (''.join(word for word in generated_sentece))\n",
        "  print()\n",
        "  return (''.join(word for word in generated_sentece))   \n",
        "  #print(generated_sentece)"
      ],
      "execution_count": 0,
      "outputs": []
    },
    {
      "metadata": {
        "id": "6bgahqzjDJ4y",
        "colab_type": "code",
        "colab": {}
      },
      "cell_type": "code",
      "source": [
        "def chatbot(seed_sentence,num_dialogs=2):\n",
        "  print(\"User 0 is saying :\")\n",
        "  print()\n",
        "  print(seed_sentence)\n",
        "  print()\n",
        "  while num_dialogs > 0:\n",
        "    repl = generate_sentence(seed_sentence,(num_dialogs%2))\n",
        "    num_dialogs -= 1\n",
        "  print(\"Thanks for using chatbot designed by Ketul :) \")"
      ],
      "execution_count": 0,
      "outputs": []
    },
    {
      "metadata": {
        "id": "zGIjM08EYk9j",
        "colab_type": "code",
        "colab": {
          "base_uri": "https://localhost:8080/",
          "height": 476
        },
        "outputId": "2642038a-612a-4207-dd5b-b049d2d3e610"
      },
      "cell_type": "code",
      "source": [
        "#chatbot(\"Is there a way to lower my screen resolution, Ubuntu loaded tops and is hard on my eyes ?\",15)\n",
        "chatbot(\"Is Ubuntu better than Windows ? \",2)"
      ],
      "execution_count": 33,
      "outputs": [
        {
          "output_type": "stream",
          "text": [
            "User 0 is saying :\n",
            "\n",
            "Is Ubuntu better than Windows ? \n",
            "\n",
            "User 0 is saying :\n",
            "\n",
            "\n",
            ".. can look http. ubuntu be\n",
            ". there will use use wine ssh, can help me vnc some resolution for;\n",
            " such is so, all grub tell\n",
            " of\n",
            " installed\n",
            "\n",
            " at dual you i i\n",
            " on!\n",
            " my\n",
            "\n",
            "User 1 is saying :\n",
            "\n",
            " it it did if was that that that that i up\n",
            " it\n",
            ",, need help with server what with is\n",
            " way theres\n",
            " some something with is commands for dont cd, as. installed then\n",
            ",, no the or is a..\n",
            "\n",
            "Thanks for using chatbot designed by Ketul :) \n"
          ],
          "name": "stdout"
        }
      ]
    }
  ]
}